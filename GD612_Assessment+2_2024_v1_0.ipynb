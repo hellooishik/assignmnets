{
  "nbformat": 4,
  "nbformat_minor": 0,
  "metadata": {
    "colab": {
      "provenance": [],
      "authorship_tag": "ABX9TyMtXA3WI6s/4p5hHJAUsItc",
      "include_colab_link": true
    },
    "kernelspec": {
      "name": "python3",
      "display_name": "Python 3"
    },
    "language_info": {
      "name": "python"
    }
  },
  "cells": [
    {
      "cell_type": "markdown",
      "metadata": {
        "id": "view-in-github",
        "colab_type": "text"
      },
      "source": [
        "<a href=\"https://colab.research.google.com/github/hellooishik/assignmnets/blob/main/GD612_Assessment%2B2_2024_v1_0.ipynb\" target=\"_parent\"><img src=\"https://colab.research.google.com/assets/colab-badge.svg\" alt=\"Open In Colab\"/></a>"
      ]
    },
    {
      "cell_type": "markdown",
      "source": [
        "# Step 1: Loading and Analyzing the Dataset"
      ],
      "metadata": {
        "id": "IAerzQiDGXK2"
      }
    },
    {
      "cell_type": "markdown",
      "source": [
        "\n",
        "Transaction ID\tProduct\tCategory\tQuantity\tPrice\tCustomer Age\tRegion\tDate\n",
        "1\tT-Shirt\tApparel\t2\t25\t30\tNorth\t2024-01-01\n",
        "2\tJeans\tApparel\t1\t40\t22\tSouth\t2024-01-02\n",
        "3\tLaptop\tElectronics\t1\t700\t35\tEast\t2024-01-03\n",
        "4\tHeadphones\tElectronics\t2\t50\t27\tWest\t2024-01-04\n",
        "5\tCoffee Mug\tHome Decor\t3\t15\t45\tNorth\t2024-01-05\n",
        "6\tT-Shirt\tApparel\t1\t25\t30\tNorth\t2024-01-06"
      ],
      "metadata": {
        "id": "r67nimVvGay8"
      }
    },
    {
      "cell_type": "code",
      "execution_count": null,
      "metadata": {
        "colab": {
          "base_uri": "https://localhost:8080/"
        },
        "id": "XN7RO-s0GTHI",
        "outputId": "9f49b367-984c-4351-b63b-4ed453674a6f"
      },
      "outputs": [
        {
          "output_type": "stream",
          "name": "stdout",
          "text": [
            "First 5 rows of the dataset:\n",
            "   Transaction ID     Product     Category  Quantity  Price  Customer Age  \\\n",
            "0               1     T-Shirt      Apparel         2     25            30   \n",
            "1               2       Jeans      Apparel         1     40            22   \n",
            "2               3      Laptop  Electronics         1    700            35   \n",
            "3               4  Headphones  Electronics         2     50            27   \n",
            "4               5  Coffee Mug   Home Decor         3     15            45   \n",
            "\n",
            "  Region       Date  \n",
            "0  North 2024-01-01  \n",
            "1  South 2024-01-02  \n",
            "2   East 2024-01-03  \n",
            "3   West 2024-01-04  \n",
            "4  North 2024-01-05  \n",
            "\n",
            "Dataset Information:\n",
            "<class 'pandas.core.frame.DataFrame'>\n",
            "RangeIndex: 6 entries, 0 to 5\n",
            "Data columns (total 8 columns):\n",
            " #   Column          Non-Null Count  Dtype         \n",
            "---  ------          --------------  -----         \n",
            " 0   Transaction ID  6 non-null      int64         \n",
            " 1   Product         6 non-null      object        \n",
            " 2   Category        6 non-null      object        \n",
            " 3   Quantity        6 non-null      int64         \n",
            " 4   Price           6 non-null      int64         \n",
            " 5   Customer Age    6 non-null      int64         \n",
            " 6   Region          6 non-null      object        \n",
            " 7   Date            6 non-null      datetime64[ns]\n",
            "dtypes: datetime64[ns](1), int64(4), object(3)\n",
            "memory usage: 516.0+ bytes\n",
            "\n",
            "Summary Statistics:\n",
            "       Transaction ID  Quantity      Price  Customer Age                 Date\n",
            "count        6.000000  6.000000    6.00000      6.000000                    6\n",
            "mean         3.500000  1.666667  142.50000     31.500000  2024-01-03 12:00:00\n",
            "min          1.000000  1.000000   15.00000     22.000000  2024-01-01 00:00:00\n",
            "25%          2.250000  1.000000   25.00000     27.750000  2024-01-02 06:00:00\n",
            "50%          3.500000  1.500000   32.50000     30.000000  2024-01-03 12:00:00\n",
            "75%          4.750000  2.000000   47.50000     33.750000  2024-01-04 18:00:00\n",
            "max          6.000000  3.000000  700.00000     45.000000  2024-01-06 00:00:00\n",
            "std          1.870829  0.816497  273.39989      7.867655                  NaN\n",
            "\n",
            "Missing Values:\n",
            "Transaction ID    0\n",
            "Product           0\n",
            "Category          0\n",
            "Quantity          0\n",
            "Price             0\n",
            "Customer Age      0\n",
            "Region            0\n",
            "Date              0\n",
            "dtype: int64\n",
            "\n",
            "Duplicate Rows Count:\n",
            "0\n"
          ]
        }
      ],
      "source": [
        "# Step 1: Import Required Libraries\n",
        "import pandas as pd\n",
        "import numpy as np\n",
        "\n",
        "# Step 2: Create Mock Dataset\n",
        "data = pd.DataFrame({\n",
        "    \"Transaction ID\": [1, 2, 3, 4, 5, 6],\n",
        "    \"Product\": [\"T-Shirt\", \"Jeans\", \"Laptop\", \"Headphones\", \"Coffee Mug\", \"T-Shirt\"],\n",
        "    \"Category\": [\"Apparel\", \"Apparel\", \"Electronics\", \"Electronics\", \"Home Decor\", \"Apparel\"],\n",
        "    \"Quantity\": [2, 1, 1, 2, 3, 1],\n",
        "    \"Price\": [25, 40, 700, 50, 15, 25],\n",
        "    \"Customer Age\": [30, 22, 35, 27, 45, 30],\n",
        "    \"Region\": [\"North\", \"South\", \"East\", \"West\", \"North\", \"North\"],\n",
        "    \"Date\": pd.to_datetime([\"2024-01-01\", \"2024-01-02\", \"2024-01-03\", \"2024-01-04\", \"2024-01-05\", \"2024-01-06\"])\n",
        "})\n",
        "\n",
        "# Step 3: Analyze the Dataset\n",
        "# Display the first few rows\n",
        "print(\"First 5 rows of the dataset:\")\n",
        "print(data.head())\n",
        "\n",
        "# Display the structure (data types and non-null counts)\n",
        "print(\"\\nDataset Information:\")\n",
        "data.info()\n",
        "\n",
        "# Display summary statistics\n",
        "print(\"\\nSummary Statistics:\")\n",
        "print(data.describe())\n",
        "\n",
        "# Check for missing values\n",
        "print(\"\\nMissing Values:\")\n",
        "print(data.isnull().sum())\n",
        "\n",
        "# Check for duplicate rows\n",
        "print(\"\\nDuplicate Rows Count:\")\n",
        "print(data.duplicated().sum())\n"
      ]
    },
    {
      "cell_type": "markdown",
      "source": [
        "# Step 2: Cleaning and Transforming the Data"
      ],
      "metadata": {
        "id": "jeo0ZQxeGmTs"
      }
    },
    {
      "cell_type": "code",
      "source": [
        "# Step 2: Cleaning and Transforming the Data\n",
        "\n",
        "# Handle Missing Values\n",
        "print(\"\\nHandling Missing Values...\")\n",
        "# (No missing values in our mock data, but here's how you can handle them)\n",
        "# data = data.fillna(value={\"Price\": data[\"Price\"].mean()})  # Example: Fill missing Price with the mean\n",
        "\n",
        "# Remove Duplicate Records\n",
        "print(\"\\nRemoving Duplicate Records...\")\n",
        "print(f\"Number of duplicate rows before cleaning: {data.duplicated().sum()}\")\n",
        "data = data.drop_duplicates()\n",
        "print(f\"Number of duplicate rows after cleaning: {data.duplicated().sum()}\")\n",
        "\n",
        "# Correct Data Types\n",
        "print(\"\\nCorrecting Data Types...\")\n",
        "data[\"Date\"] = pd.to_datetime(data[\"Date\"])  # Ensure Date is datetime\n",
        "print(\"Data types after correction:\")\n",
        "print(data.dtypes)\n",
        "\n",
        "# Add a New Column: Total Price\n",
        "print(\"\\nAdding a New Column: Total Price...\")\n",
        "data[\"Total Price\"] = data[\"Quantity\"] * data[\"Price\"]\n",
        "print(data.head())\n",
        "\n",
        "# Filter Outliers (e.g., Price > 500 considered as outlier for this dataset)\n",
        "print(\"\\nFiltering Outliers...\")\n",
        "price_threshold = 500\n",
        "outliers = data[data[\"Price\"] > price_threshold]\n",
        "print(f\"Outliers identified:\\n{outliers}\")\n",
        "data = data[data[\"Price\"] <= price_threshold]\n",
        "print(f\"Data after removing outliers:\\n{data}\")\n",
        "\n",
        "# Normalize Data (optional, for numeric columns)\n",
        "print(\"\\nNormalizing Numeric Data (optional)...\")\n",
        "from sklearn.preprocessing import MinMaxScaler\n",
        "scaler = MinMaxScaler()\n",
        "data[[\"Quantity\", \"Price\", \"Total Price\"]] = scaler.fit_transform(data[[\"Quantity\", \"Price\", \"Total Price\"]])\n",
        "print(\"Normalized Data:\")\n",
        "print(data.head())\n"
      ],
      "metadata": {
        "colab": {
          "base_uri": "https://localhost:8080/"
        },
        "id": "gBR1ae4qGoC8",
        "outputId": "49466038-30b5-4c71-bd83-0f03c9f1cbb9"
      },
      "execution_count": null,
      "outputs": [
        {
          "output_type": "stream",
          "name": "stdout",
          "text": [
            "\n",
            "Handling Missing Values...\n",
            "\n",
            "Removing Duplicate Records...\n",
            "Number of duplicate rows before cleaning: 0\n",
            "Number of duplicate rows after cleaning: 0\n",
            "\n",
            "Correcting Data Types...\n",
            "Data types after correction:\n",
            "Transaction ID             int64\n",
            "Product                   object\n",
            "Category                  object\n",
            "Quantity                   int64\n",
            "Price                      int64\n",
            "Customer Age               int64\n",
            "Region                    object\n",
            "Date              datetime64[ns]\n",
            "dtype: object\n",
            "\n",
            "Adding a New Column: Total Price...\n",
            "   Transaction ID     Product     Category  Quantity  Price  Customer Age  \\\n",
            "0               1     T-Shirt      Apparel         2     25            30   \n",
            "1               2       Jeans      Apparel         1     40            22   \n",
            "2               3      Laptop  Electronics         1    700            35   \n",
            "3               4  Headphones  Electronics         2     50            27   \n",
            "4               5  Coffee Mug   Home Decor         3     15            45   \n",
            "\n",
            "  Region       Date  Total Price  \n",
            "0  North 2024-01-01           50  \n",
            "1  South 2024-01-02           40  \n",
            "2   East 2024-01-03          700  \n",
            "3   West 2024-01-04          100  \n",
            "4  North 2024-01-05           45  \n",
            "\n",
            "Filtering Outliers...\n",
            "Outliers identified:\n",
            "   Transaction ID Product     Category  Quantity  Price  Customer Age Region  \\\n",
            "2               3  Laptop  Electronics         1    700            35   East   \n",
            "\n",
            "        Date  Total Price  \n",
            "2 2024-01-03          700  \n",
            "Data after removing outliers:\n",
            "   Transaction ID     Product     Category  Quantity  Price  Customer Age  \\\n",
            "0               1     T-Shirt      Apparel         2     25            30   \n",
            "1               2       Jeans      Apparel         1     40            22   \n",
            "3               4  Headphones  Electronics         2     50            27   \n",
            "4               5  Coffee Mug   Home Decor         3     15            45   \n",
            "5               6     T-Shirt      Apparel         1     25            30   \n",
            "\n",
            "  Region       Date  Total Price  \n",
            "0  North 2024-01-01           50  \n",
            "1  South 2024-01-02           40  \n",
            "3   West 2024-01-04          100  \n",
            "4  North 2024-01-05           45  \n",
            "5  North 2024-01-06           25  \n",
            "\n",
            "Normalizing Numeric Data (optional)...\n",
            "Normalized Data:\n",
            "   Transaction ID     Product     Category  Quantity     Price  Customer Age  \\\n",
            "0               1     T-Shirt      Apparel       0.5  0.285714            30   \n",
            "1               2       Jeans      Apparel       0.0  0.714286            22   \n",
            "3               4  Headphones  Electronics       0.5  1.000000            27   \n",
            "4               5  Coffee Mug   Home Decor       1.0  0.000000            45   \n",
            "5               6     T-Shirt      Apparel       0.0  0.285714            30   \n",
            "\n",
            "  Region       Date  Total Price  \n",
            "0  North 2024-01-01     0.333333  \n",
            "1  South 2024-01-02     0.200000  \n",
            "3   West 2024-01-04     1.000000  \n",
            "4  North 2024-01-05     0.266667  \n",
            "5  North 2024-01-06     0.000000  \n"
          ]
        }
      ]
    },
    {
      "cell_type": "markdown",
      "source": [
        "# Step 3: Display Initial Rows"
      ],
      "metadata": {
        "id": "kYB0mMqFGxyk"
      }
    },
    {
      "cell_type": "code",
      "source": [
        "# Step 3: Display Initial Rows of the Cleaned and Transformed Dataset\n",
        "print(\"Initial Rows of the Cleaned and Transformed Dataset:\")\n",
        "print(data.head())  # Display the first 5 rows of the dataset"
      ],
      "metadata": {
        "colab": {
          "base_uri": "https://localhost:8080/"
        },
        "id": "MvhYd_D6GzB1",
        "outputId": "df8eefcb-b3d5-4791-a12c-8ed9f9348cf1"
      },
      "execution_count": null,
      "outputs": [
        {
          "output_type": "stream",
          "name": "stdout",
          "text": [
            "Initial Rows of the Cleaned and Transformed Dataset:\n",
            "   Transaction ID     Product     Category  Quantity     Price  Customer Age  \\\n",
            "0               1     T-Shirt      Apparel       0.5  0.285714            30   \n",
            "1               2       Jeans      Apparel       0.0  0.714286            22   \n",
            "3               4  Headphones  Electronics       0.5  1.000000            27   \n",
            "4               5  Coffee Mug   Home Decor       1.0  0.000000            45   \n",
            "5               6     T-Shirt      Apparel       0.0  0.285714            30   \n",
            "\n",
            "  Region       Date  Total Price  \n",
            "0  North 2024-01-01     0.333333  \n",
            "1  South 2024-01-02     0.200000  \n",
            "3   West 2024-01-04     1.000000  \n",
            "4  North 2024-01-05     0.266667  \n",
            "5  North 2024-01-06     0.000000  \n"
          ]
        }
      ]
    },
    {
      "cell_type": "markdown",
      "source": [
        "# Step 4: Filtering the Tidy Dataset Based on Criteria"
      ],
      "metadata": {
        "id": "ynV4ika4HGsT"
      }
    },
    {
      "cell_type": "code",
      "source": [
        "# Step 4: Filter the Tidy Dataset Based on Criteria\n",
        "\n",
        "# Filter 1: Rows where Category is 'Apparel'\n",
        "apparel_data = data[data[\"Category\"] == \"Apparel\"]\n",
        "print(\"\\nFiltered Dataset - Category: Apparel\")\n",
        "print(apparel_data)\n",
        "\n",
        "# Filter 2: Rows where Region is 'North'\n",
        "north_region_data = data[data[\"Region\"] == \"North\"]\n",
        "print(\"\\nFiltered Dataset - Region: North\")\n",
        "print(north_region_data)\n",
        "\n",
        "# Filter 3: Rows where Total Price is greater than 0.5 (after normalization)\n",
        "filtered_by_price = data[data[\"Total Price\"] > 0.5]\n",
        "print(\"\\nFiltered Dataset - Total Price > 0.5\")\n",
        "print(filtered_by_price)\n"
      ],
      "metadata": {
        "colab": {
          "base_uri": "https://localhost:8080/"
        },
        "id": "5e4XR4UBHHxU",
        "outputId": "164fa355-33bf-43a9-f4d8-f0357c55017f"
      },
      "execution_count": null,
      "outputs": [
        {
          "output_type": "stream",
          "name": "stdout",
          "text": [
            "\n",
            "Filtered Dataset - Category: Apparel\n",
            "   Transaction ID  Product Category  Quantity     Price  Customer Age Region  \\\n",
            "0               1  T-Shirt  Apparel       0.5  0.285714            30  North   \n",
            "1               2    Jeans  Apparel       0.0  0.714286            22  South   \n",
            "5               6  T-Shirt  Apparel       0.0  0.285714            30  North   \n",
            "\n",
            "        Date  Total Price  \n",
            "0 2024-01-01     0.333333  \n",
            "1 2024-01-02     0.200000  \n",
            "5 2024-01-06     0.000000  \n",
            "\n",
            "Filtered Dataset - Region: North\n",
            "   Transaction ID     Product    Category  Quantity     Price  Customer Age  \\\n",
            "0               1     T-Shirt     Apparel       0.5  0.285714            30   \n",
            "4               5  Coffee Mug  Home Decor       1.0  0.000000            45   \n",
            "5               6     T-Shirt     Apparel       0.0  0.285714            30   \n",
            "\n",
            "  Region       Date  Total Price  \n",
            "0  North 2024-01-01     0.333333  \n",
            "4  North 2024-01-05     0.266667  \n",
            "5  North 2024-01-06     0.000000  \n",
            "\n",
            "Filtered Dataset - Total Price > 0.5\n",
            "   Transaction ID     Product     Category  Quantity  Price  Customer Age  \\\n",
            "3               4  Headphones  Electronics       0.5    1.0            27   \n",
            "\n",
            "  Region       Date  Total Price  \n",
            "3   West 2024-01-04          1.0  \n"
          ]
        }
      ]
    },
    {
      "cell_type": "markdown",
      "source": [
        "# Step 5: Establishing a Database Connection"
      ],
      "metadata": {
        "id": "GhqSgC00HRpc"
      }
    },
    {
      "cell_type": "code",
      "source": [
        "# Step 5: Establishing a Database Connection and Importing Data\n",
        "\n",
        "import sqlite3\n",
        "\n",
        "# Create a connection to the SQLite database (or create it if it doesn't exist)\n",
        "conn = sqlite3.connect(\"sales_data.db\")\n",
        "cursor = conn.cursor()\n",
        "\n",
        "# Step 5.1: Create a Table in the Database\n",
        "# Drop the table if it exists (optional, for repeated runs)\n",
        "cursor.execute(\"DROP TABLE IF EXISTS sales\")\n",
        "\n",
        "# Create a new table with appropriate column definitions\n",
        "cursor.execute(\"\"\"\n",
        "CREATE TABLE sales (\n",
        "    TransactionID INTEGER,\n",
        "    Product TEXT,\n",
        "    Category TEXT,\n",
        "    Quantity REAL,\n",
        "    Price REAL,\n",
        "    CustomerAge INTEGER,\n",
        "    Region TEXT,\n",
        "    Date TEXT,\n",
        "    TotalPrice REAL\n",
        ")\n",
        "\"\"\")\n",
        "print(\"Table created successfully.\")\n",
        "\n",
        "# Step 5.2: Insert the Cleaned Dataset into the Table\n",
        "# Convert the Pandas DataFrame to a list of tuples\n",
        "data_tuples = data.to_records(index=False)\n",
        "cursor.executemany(\"\"\"\n",
        "INSERT INTO sales (TransactionID, Product, Category, Quantity, Price, CustomerAge, Region, Date, TotalPrice)\n",
        "VALUES (?, ?, ?, ?, ?, ?, ?, ?, ?)\n",
        "\"\"\", data_tuples)\n",
        "print(f\"Inserted {len(data_tuples)} rows into the database.\")\n",
        "\n",
        "# Commit the transaction and close the connection\n",
        "conn.commit()\n",
        "conn.close()\n",
        "\n",
        "print(\"Database connection closed.\")\n"
      ],
      "metadata": {
        "colab": {
          "base_uri": "https://localhost:8080/"
        },
        "id": "CzpfMYglHSsE",
        "outputId": "a0debe12-281d-43f7-b546-901d6e4f5db1"
      },
      "execution_count": null,
      "outputs": [
        {
          "output_type": "stream",
          "name": "stdout",
          "text": [
            "Table created successfully.\n",
            "Inserted 5 rows into the database.\n",
            "Database connection closed.\n"
          ]
        }
      ]
    },
    {
      "cell_type": "markdown",
      "source": [
        "# Step 6: Retrieving and Displaying Records"
      ],
      "metadata": {
        "id": "T2BzOzYZHbb8"
      }
    },
    {
      "cell_type": "code",
      "source": [
        "# Step 6: Retrieve and Display Records from the Database\n",
        "\n",
        "import sqlite3\n",
        "import pandas as pd\n",
        "\n",
        "# Step 6.1: Reconnect to the Database\n",
        "conn = sqlite3.connect(\"sales_data.db\")\n",
        "cursor = conn.cursor()\n",
        "\n",
        "# Step 6.2: Retrieve All Records from the 'sales' Table\n",
        "query = \"SELECT * FROM sales\"\n",
        "data_from_db = pd.read_sql_query(query, conn)\n",
        "\n",
        "# Display the Retrieved Data\n",
        "print(\"Retrieved Records from the Database:\")\n",
        "print(data_from_db)\n",
        "\n",
        "# Step 6.3: Close the Connection\n",
        "conn.close()\n",
        "print(\"Database connection closed.\")\n"
      ],
      "metadata": {
        "colab": {
          "base_uri": "https://localhost:8080/"
        },
        "id": "fcjtc5OxHcQs",
        "outputId": "52df9b3f-2197-4c79-9382-516e46945c7b"
      },
      "execution_count": null,
      "outputs": [
        {
          "output_type": "stream",
          "name": "stdout",
          "text": [
            "Retrieved Records from the Database:\n",
            "                         TransactionID     Product     Category  Quantity  \\\n",
            "0  b'\\x01\\x00\\x00\\x00\\x00\\x00\\x00\\x00'     T-Shirt      Apparel       0.5   \n",
            "1  b'\\x02\\x00\\x00\\x00\\x00\\x00\\x00\\x00'       Jeans      Apparel       0.0   \n",
            "2  b'\\x04\\x00\\x00\\x00\\x00\\x00\\x00\\x00'  Headphones  Electronics       0.5   \n",
            "3  b'\\x05\\x00\\x00\\x00\\x00\\x00\\x00\\x00'  Coffee Mug   Home Decor       1.0   \n",
            "4  b'\\x06\\x00\\x00\\x00\\x00\\x00\\x00\\x00'     T-Shirt      Apparel       0.0   \n",
            "\n",
            "      Price                          CustomerAge Region  \\\n",
            "0  0.285714  b'\\x1e\\x00\\x00\\x00\\x00\\x00\\x00\\x00'  North   \n",
            "1  0.714286  b'\\x16\\x00\\x00\\x00\\x00\\x00\\x00\\x00'  South   \n",
            "2  1.000000  b'\\x1b\\x00\\x00\\x00\\x00\\x00\\x00\\x00'   West   \n",
            "3  0.000000     b'-\\x00\\x00\\x00\\x00\\x00\\x00\\x00'  North   \n",
            "4  0.285714  b'\\x1e\\x00\\x00\\x00\\x00\\x00\\x00\\x00'  North   \n",
            "\n",
            "                                  Date  TotalPrice  \n",
            "0     b'\\x00\\x00e\\x01\\x17\\x10\\xa6\\x17'    0.333333  \n",
            "1     b'\\x00\\x00\\xb4\\x92\\xab^\\xa6\\x17'    0.200000  \n",
            "2     b'\\x00\\x00R\\xb5\\xd4\\xfb\\xa6\\x17'    1.000000  \n",
            "3           b'\\x00\\x00\\xa1FiJ\\xa7\\x17'    0.266667  \n",
            "4  b'\\x00\\x00\\xf0\\xd7\\xfd\\x98\\xa7\\x17'    0.000000  \n",
            "Database connection closed.\n"
          ]
        }
      ]
    },
    {
      "cell_type": "markdown",
      "source": [
        "# Step 7: Sorting Records Based on Conditions"
      ],
      "metadata": {
        "id": "iu5W96ViHk-z"
      }
    },
    {
      "cell_type": "code",
      "source": [
        "# Step 7: Sorting Records Based on Conditions\n",
        "\n",
        "import sqlite3\n",
        "import pandas as pd\n",
        "\n",
        "# Step 7.1: Reconnect to the Database\n",
        "conn = sqlite3.connect(\"sales_data.db\")\n",
        "cursor = conn.cursor()\n",
        "\n",
        "# Step 7.2: Sort Records by Total Price (Descending Order)\n",
        "query_sort_price = \"SELECT * FROM sales ORDER BY TotalPrice DESC\"\n",
        "sorted_by_price = pd.read_sql_query(query_sort_price, conn)\n",
        "print(\"\\nRecords Sorted by Total Price (Descending):\")\n",
        "print(sorted_by_price)\n",
        "\n",
        "# Step 7.3: Sort Records by Quantity (Ascending Order)\n",
        "query_sort_quantity = \"SELECT * FROM sales ORDER BY Quantity ASC\"\n",
        "sorted_by_quantity = pd.read_sql_query(query_sort_quantity, conn)\n",
        "print(\"\\nRecords Sorted by Quantity (Ascending):\")\n",
        "print(sorted_by_quantity)\n",
        "\n",
        "# Step 7.4: Close the Connection\n",
        "conn.close()\n",
        "print(\"\\nDatabase connection closed.\")\n"
      ],
      "metadata": {
        "colab": {
          "base_uri": "https://localhost:8080/"
        },
        "id": "n2v3FiywHmAM",
        "outputId": "848c3a53-01a2-4615-d0d3-4b2e81ec3977"
      },
      "execution_count": null,
      "outputs": [
        {
          "output_type": "stream",
          "name": "stdout",
          "text": [
            "\n",
            "Records Sorted by Total Price (Descending):\n",
            "                         TransactionID     Product     Category  Quantity  \\\n",
            "0  b'\\x04\\x00\\x00\\x00\\x00\\x00\\x00\\x00'  Headphones  Electronics       0.5   \n",
            "1  b'\\x01\\x00\\x00\\x00\\x00\\x00\\x00\\x00'     T-Shirt      Apparel       0.5   \n",
            "2  b'\\x05\\x00\\x00\\x00\\x00\\x00\\x00\\x00'  Coffee Mug   Home Decor       1.0   \n",
            "3  b'\\x02\\x00\\x00\\x00\\x00\\x00\\x00\\x00'       Jeans      Apparel       0.0   \n",
            "4  b'\\x06\\x00\\x00\\x00\\x00\\x00\\x00\\x00'     T-Shirt      Apparel       0.0   \n",
            "\n",
            "      Price                          CustomerAge Region  \\\n",
            "0  1.000000  b'\\x1b\\x00\\x00\\x00\\x00\\x00\\x00\\x00'   West   \n",
            "1  0.285714  b'\\x1e\\x00\\x00\\x00\\x00\\x00\\x00\\x00'  North   \n",
            "2  0.000000     b'-\\x00\\x00\\x00\\x00\\x00\\x00\\x00'  North   \n",
            "3  0.714286  b'\\x16\\x00\\x00\\x00\\x00\\x00\\x00\\x00'  South   \n",
            "4  0.285714  b'\\x1e\\x00\\x00\\x00\\x00\\x00\\x00\\x00'  North   \n",
            "\n",
            "                                  Date  TotalPrice  \n",
            "0     b'\\x00\\x00R\\xb5\\xd4\\xfb\\xa6\\x17'    1.000000  \n",
            "1     b'\\x00\\x00e\\x01\\x17\\x10\\xa6\\x17'    0.333333  \n",
            "2           b'\\x00\\x00\\xa1FiJ\\xa7\\x17'    0.266667  \n",
            "3     b'\\x00\\x00\\xb4\\x92\\xab^\\xa6\\x17'    0.200000  \n",
            "4  b'\\x00\\x00\\xf0\\xd7\\xfd\\x98\\xa7\\x17'    0.000000  \n",
            "\n",
            "Records Sorted by Quantity (Ascending):\n",
            "                         TransactionID     Product     Category  Quantity  \\\n",
            "0  b'\\x02\\x00\\x00\\x00\\x00\\x00\\x00\\x00'       Jeans      Apparel       0.0   \n",
            "1  b'\\x06\\x00\\x00\\x00\\x00\\x00\\x00\\x00'     T-Shirt      Apparel       0.0   \n",
            "2  b'\\x01\\x00\\x00\\x00\\x00\\x00\\x00\\x00'     T-Shirt      Apparel       0.5   \n",
            "3  b'\\x04\\x00\\x00\\x00\\x00\\x00\\x00\\x00'  Headphones  Electronics       0.5   \n",
            "4  b'\\x05\\x00\\x00\\x00\\x00\\x00\\x00\\x00'  Coffee Mug   Home Decor       1.0   \n",
            "\n",
            "      Price                          CustomerAge Region  \\\n",
            "0  0.714286  b'\\x16\\x00\\x00\\x00\\x00\\x00\\x00\\x00'  South   \n",
            "1  0.285714  b'\\x1e\\x00\\x00\\x00\\x00\\x00\\x00\\x00'  North   \n",
            "2  0.285714  b'\\x1e\\x00\\x00\\x00\\x00\\x00\\x00\\x00'  North   \n",
            "3  1.000000  b'\\x1b\\x00\\x00\\x00\\x00\\x00\\x00\\x00'   West   \n",
            "4  0.000000     b'-\\x00\\x00\\x00\\x00\\x00\\x00\\x00'  North   \n",
            "\n",
            "                                  Date  TotalPrice  \n",
            "0     b'\\x00\\x00\\xb4\\x92\\xab^\\xa6\\x17'    0.200000  \n",
            "1  b'\\x00\\x00\\xf0\\xd7\\xfd\\x98\\xa7\\x17'    0.000000  \n",
            "2     b'\\x00\\x00e\\x01\\x17\\x10\\xa6\\x17'    0.333333  \n",
            "3     b'\\x00\\x00R\\xb5\\xd4\\xfb\\xa6\\x17'    1.000000  \n",
            "4           b'\\x00\\x00\\xa1FiJ\\xa7\\x17'    0.266667  \n",
            "\n",
            "Database connection closed.\n"
          ]
        }
      ]
    },
    {
      "cell_type": "markdown",
      "source": [
        "# Step 8: Counting the Number of Records in the Table"
      ],
      "metadata": {
        "id": "821YUXkDHua0"
      }
    },
    {
      "cell_type": "code",
      "source": [
        "# Step 8: Count the Number of Records in the Table\n",
        "\n",
        "import sqlite3\n",
        "\n",
        "# Step 8.1: Reconnect to the Database\n",
        "conn = sqlite3.connect(\"sales_data.db\")\n",
        "cursor = conn.cursor()\n",
        "\n",
        "# Step 8.2: Count the Number of Records\n",
        "query_count = \"SELECT COUNT(*) FROM sales\"\n",
        "cursor.execute(query_count)\n",
        "record_count = cursor.fetchone()[0]  # Fetch the count result\n",
        "print(f\"\\nTotal Number of Records in the 'sales' Table: {record_count}\")\n",
        "\n",
        "# Step 8.3: Close the Connection\n",
        "conn.close()\n",
        "print(\"\\nDatabase connection closed.\")\n"
      ],
      "metadata": {
        "colab": {
          "base_uri": "https://localhost:8080/"
        },
        "id": "2lN8w87nHvzl",
        "outputId": "6adeb957-6f79-4a50-ccbe-0ddc832e16a6"
      },
      "execution_count": null,
      "outputs": [
        {
          "output_type": "stream",
          "name": "stdout",
          "text": [
            "\n",
            "Total Number of Records in the 'sales' Table: 5\n",
            "\n",
            "Database connection closed.\n"
          ]
        }
      ]
    },
    {
      "cell_type": "markdown",
      "source": [
        "# Step 9: Grouping Operations"
      ],
      "metadata": {
        "id": "5JpEN_MnJA3U"
      }
    },
    {
      "cell_type": "code",
      "source": [
        "# Reconnect to the database\n",
        "conn = sqlite3.connect(\"sales_data.db\")\n",
        "cursor = conn.cursor()\n",
        "\n",
        "# Perform grouping operation\n",
        "query_grouping = \"\"\"\n",
        "SELECT Category, COUNT(*) as total_sales\n",
        "FROM sales\n",
        "GROUP BY Category\n",
        "\"\"\"\n",
        "cursor.execute(query_grouping)\n",
        "grouped_results = cursor.fetchall()\n",
        "\n",
        "# Display grouped results\n",
        "print(\"\\nGrouped Sales Data by Product Category:\")\n",
        "for row in grouped_results:\n",
        "    print(f\"Category: {row[0]}, Total Sales: {row[1]}\")\n",
        "\n",
        "# Close the connection\n",
        "conn.close()\n",
        "print(\"\\nDatabase connection closed.\")\n"
      ],
      "metadata": {
        "colab": {
          "base_uri": "https://localhost:8080/"
        },
        "id": "EsVdV-E0JCKz",
        "outputId": "72a0e492-f450-43d7-a414-087205dc5cbf"
      },
      "execution_count": null,
      "outputs": [
        {
          "output_type": "stream",
          "name": "stdout",
          "text": [
            "\n",
            "Grouped Sales Data by Product Category:\n",
            "Category: Apparel, Total Sales: 3\n",
            "Category: Electronics, Total Sales: 1\n",
            "Category: Home Decor, Total Sales: 1\n",
            "\n",
            "Database connection closed.\n"
          ]
        }
      ]
    },
    {
      "cell_type": "markdown",
      "source": [
        "# Step 10: Update Operations"
      ],
      "metadata": {
        "id": "A5bDpm2kJqHk"
      }
    },
    {
      "cell_type": "code",
      "source": [
        "# Reconnect to the database\n",
        "conn = sqlite3.connect(\"sales_data.db\")\n",
        "cursor = conn.cursor()\n",
        "\n",
        "# Example: Set discount for a specific region\n",
        "query_update_discount = \"\"\"\n",
        "UPDATE sales\n",
        "SET Price = Price * 0.9  -- Applying a 10% discount\n",
        "WHERE Region = 'North'\n",
        "\"\"\"\n",
        "cursor.execute(query_update_discount)\n",
        "conn.commit()\n",
        "\n",
        "# Confirm update by counting affected rows\n",
        "rows_affected = cursor.rowcount\n",
        "print(f\"\\nRows updated: {rows_affected}\")\n",
        "\n",
        "# Close the connection\n",
        "conn.close()\n",
        "print(\"\\nDatabase connection closed.\")\n"
      ],
      "metadata": {
        "colab": {
          "base_uri": "https://localhost:8080/"
        },
        "id": "cWaKSXpeJra8",
        "outputId": "756f5c61-75af-4f9f-acd6-a46dee336bd4"
      },
      "execution_count": null,
      "outputs": [
        {
          "output_type": "stream",
          "name": "stdout",
          "text": [
            "\n",
            "Rows updated: 3\n",
            "\n",
            "Database connection closed.\n"
          ]
        }
      ]
    },
    {
      "cell_type": "markdown",
      "source": [
        "# Task B: Data Export, Migration, and Backup"
      ],
      "metadata": {
        "id": "DJih-hJMKfjL"
      }
    },
    {
      "cell_type": "markdown",
      "source": [
        "***Step 11: Export Data to a File***"
      ],
      "metadata": {
        "id": "cjHrONM9KiKb"
      }
    },
    {
      "cell_type": "code",
      "source": [
        "import csv\n",
        "\n",
        "# Reconnect to the database\n",
        "conn = sqlite3.connect(\"sales_data.db\")\n",
        "cursor = conn.cursor()\n",
        "\n",
        "# Fetch data\n",
        "query_export = \"SELECT * FROM sales\"\n",
        "cursor.execute(query_export)\n",
        "rows = cursor.fetchall()\n",
        "\n",
        "# Export to CSV\n",
        "with open(\"sales_data_export.csv\", \"w\", newline=\"\") as file:\n",
        "    writer = csv.writer(file)\n",
        "    # Write header\n",
        "    writer.writerow([description[0] for description in cursor.description])\n",
        "    # Write data\n",
        "    writer.writerows(rows)\n",
        "\n",
        "print(\"\\nData exported to 'sales_data_export.csv'.\")\n",
        "conn.close()\n"
      ],
      "metadata": {
        "colab": {
          "base_uri": "https://localhost:8080/"
        },
        "id": "oz0e2pcmKghD",
        "outputId": "4cb9b72f-7f33-4dc7-d827-29b25b8f20c0"
      },
      "execution_count": null,
      "outputs": [
        {
          "output_type": "stream",
          "name": "stdout",
          "text": [
            "\n",
            "Data exported to 'sales_data_export.csv'.\n"
          ]
        }
      ]
    },
    {
      "cell_type": "markdown",
      "source": [
        "# Step 12: Upload to Cloud Storage"
      ],
      "metadata": {
        "id": "z29Na1JtKoEk"
      }
    },
    {
      "cell_type": "code",
      "source": [
        "import boto3\n",
        "\n",
        "# AWS S3 credentials\n",
        "s3 = boto3.client('s3', aws_access_key_id='your-access-key', aws_secret_access_key='your-secret-key')\n",
        "bucket_name = \"your-bucket-name\"\n",
        "file_name = \"sales_data_export.csv\"\n",
        "\n",
        "# Upload file\n",
        "try:\n",
        "    s3.upload_file(file_name, bucket_name, file_name)\n",
        "    print(f\"\\nFile '{file_name}' uploaded to bucket '{bucket_name}'.\")\n",
        "except Exception as e:\n",
        "    print(f\"Error uploading file: {e}\")\n"
      ],
      "metadata": {
        "colab": {
          "base_uri": "https://localhost:8080/",
          "height": 383
        },
        "id": "6CJdTQxrKpQ8",
        "outputId": "baba7e57-7dfd-4867-a68e-c6b54cbc391e"
      },
      "execution_count": null,
      "outputs": [
        {
          "output_type": "error",
          "ename": "ModuleNotFoundError",
          "evalue": "No module named 'boto3'",
          "traceback": [
            "\u001b[0;31m---------------------------------------------------------------------------\u001b[0m",
            "\u001b[0;31mModuleNotFoundError\u001b[0m                       Traceback (most recent call last)",
            "\u001b[0;32m<ipython-input-16-e593d5108b5a>\u001b[0m in \u001b[0;36m<cell line: 0>\u001b[0;34m()\u001b[0m\n\u001b[0;32m----> 1\u001b[0;31m \u001b[0;32mimport\u001b[0m \u001b[0mboto3\u001b[0m\u001b[0;34m\u001b[0m\u001b[0;34m\u001b[0m\u001b[0m\n\u001b[0m\u001b[1;32m      2\u001b[0m \u001b[0;34m\u001b[0m\u001b[0m\n\u001b[1;32m      3\u001b[0m \u001b[0;31m# AWS S3 credentials\u001b[0m\u001b[0;34m\u001b[0m\u001b[0;34m\u001b[0m\u001b[0m\n\u001b[1;32m      4\u001b[0m \u001b[0ms3\u001b[0m \u001b[0;34m=\u001b[0m \u001b[0mboto3\u001b[0m\u001b[0;34m.\u001b[0m\u001b[0mclient\u001b[0m\u001b[0;34m(\u001b[0m\u001b[0;34m's3'\u001b[0m\u001b[0;34m,\u001b[0m \u001b[0maws_access_key_id\u001b[0m\u001b[0;34m=\u001b[0m\u001b[0;34m'your-access-key'\u001b[0m\u001b[0;34m,\u001b[0m \u001b[0maws_secret_access_key\u001b[0m\u001b[0;34m=\u001b[0m\u001b[0;34m'your-secret-key'\u001b[0m\u001b[0;34m)\u001b[0m\u001b[0;34m\u001b[0m\u001b[0;34m\u001b[0m\u001b[0m\n\u001b[1;32m      5\u001b[0m \u001b[0mbucket_name\u001b[0m \u001b[0;34m=\u001b[0m \u001b[0;34m\"your-bucket-name\"\u001b[0m\u001b[0;34m\u001b[0m\u001b[0;34m\u001b[0m\u001b[0m\n",
            "\u001b[0;31mModuleNotFoundError\u001b[0m: No module named 'boto3'",
            "",
            "\u001b[0;31m---------------------------------------------------------------------------\u001b[0;32m\nNOTE: If your import is failing due to a missing package, you can\nmanually install dependencies using either !pip or !apt.\n\nTo view examples of installing some common dependencies, click the\n\"Open Examples\" button below.\n\u001b[0;31m---------------------------------------------------------------------------\u001b[0m\n"
          ],
          "errorDetails": {
            "actions": [
              {
                "action": "open_url",
                "actionText": "Open Examples",
                "url": "/notebooks/snippets/importing_libraries.ipynb"
              }
            ]
          }
        }
      ]
    },
    {
      "cell_type": "markdown",
      "source": [
        "# Step 13: Schedule Automated Backups"
      ],
      "metadata": {
        "id": "TnPawJH2bi-4"
      }
    },
    {
      "cell_type": "code",
      "source": [
        "import schedule\n",
        "import time\n",
        "import shutil\n",
        "\n",
        "def backup_data():\n",
        "    try:\n",
        "        shutil.copy(\"sales_data_export.csv\", \"/path/to/backup/directory/\")\n",
        "        print(\"\\nBackup completed successfully.\")\n",
        "    except Exception as e:\n",
        "        print(f\"Backup failed: {e}\")\n",
        "\n",
        "# Schedule backup every day at midnight\n",
        "schedule.every().day.at(\"00:00\").do(backup_data)\n",
        "\n",
        "print(\"Automated backup scheduled. Press Ctrl+C to exit.\")\n",
        "while True:\n",
        "    schedule.run_pending()\n",
        "    time.sleep(1)\n"
      ],
      "metadata": {
        "colab": {
          "base_uri": "https://localhost:8080/",
          "height": 383
        },
        "id": "1sobdZumbayA",
        "outputId": "ebc083e7-f10e-4477-eae6-3edad9c2f005"
      },
      "execution_count": null,
      "outputs": [
        {
          "output_type": "error",
          "ename": "ModuleNotFoundError",
          "evalue": "No module named 'schedule'",
          "traceback": [
            "\u001b[0;31m---------------------------------------------------------------------------\u001b[0m",
            "\u001b[0;31mModuleNotFoundError\u001b[0m                       Traceback (most recent call last)",
            "\u001b[0;32m<ipython-input-17-fe51f3228bc9>\u001b[0m in \u001b[0;36m<cell line: 0>\u001b[0;34m()\u001b[0m\n\u001b[0;32m----> 1\u001b[0;31m \u001b[0;32mimport\u001b[0m \u001b[0mschedule\u001b[0m\u001b[0;34m\u001b[0m\u001b[0;34m\u001b[0m\u001b[0m\n\u001b[0m\u001b[1;32m      2\u001b[0m \u001b[0;32mimport\u001b[0m \u001b[0mtime\u001b[0m\u001b[0;34m\u001b[0m\u001b[0;34m\u001b[0m\u001b[0m\n\u001b[1;32m      3\u001b[0m \u001b[0;32mimport\u001b[0m \u001b[0mshutil\u001b[0m\u001b[0;34m\u001b[0m\u001b[0;34m\u001b[0m\u001b[0m\n\u001b[1;32m      4\u001b[0m \u001b[0;34m\u001b[0m\u001b[0m\n\u001b[1;32m      5\u001b[0m \u001b[0;32mdef\u001b[0m \u001b[0mbackup_data\u001b[0m\u001b[0;34m(\u001b[0m\u001b[0;34m)\u001b[0m\u001b[0;34m:\u001b[0m\u001b[0;34m\u001b[0m\u001b[0;34m\u001b[0m\u001b[0m\n",
            "\u001b[0;31mModuleNotFoundError\u001b[0m: No module named 'schedule'",
            "",
            "\u001b[0;31m---------------------------------------------------------------------------\u001b[0;32m\nNOTE: If your import is failing due to a missing package, you can\nmanually install dependencies using either !pip or !apt.\n\nTo view examples of installing some common dependencies, click the\n\"Open Examples\" button below.\n\u001b[0;31m---------------------------------------------------------------------------\u001b[0m\n"
          ],
          "errorDetails": {
            "actions": [
              {
                "action": "open_url",
                "actionText": "Open Examples",
                "url": "/notebooks/snippets/importing_libraries.ipynb"
              }
            ]
          }
        }
      ]
    },
    {
      "cell_type": "markdown",
      "source": [
        "# Step 14: Error Handling"
      ],
      "metadata": {
        "id": "vlh5RhKubot4"
      }
    },
    {
      "cell_type": "code",
      "source": [
        "try:\n",
        "    # Perform backup or upload\n",
        "    backup_data()\n",
        "except FileNotFoundError as e:\n",
        "    print(f\"File not found: {e}\")\n",
        "except Exception as e:\n",
        "    print(f\"An unexpected error occurred: {e}\")\n"
      ],
      "metadata": {
        "colab": {
          "base_uri": "https://localhost:8080/"
        },
        "id": "NYGx2ubSbphY",
        "outputId": "7cae01aa-53f7-4f3f-bbdb-49bde8be4c6c"
      },
      "execution_count": null,
      "outputs": [
        {
          "output_type": "stream",
          "name": "stdout",
          "text": [
            "An unexpected error occurred: name 'backup_data' is not defined\n"
          ]
        }
      ]
    }
  ]
}